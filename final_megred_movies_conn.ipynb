{
 "cells": [
  {
   "cell_type": "code",
   "execution_count": 1,
   "metadata": {},
   "outputs": [
    {
     "name": "stdout",
     "output_type": "stream",
     "text": [
      "Requirement already satisfied: mysql-connector-python in c:\\users\\bhuva\\anaconda3\\lib\\site-packages (9.2.0)\n",
      "Requirement already satisfied: pandas in c:\\users\\bhuva\\anaconda3\\lib\\site-packages (2.2.2)\n",
      "Requirement already satisfied: numpy>=1.26.0 in c:\\users\\bhuva\\anaconda3\\lib\\site-packages (from pandas) (1.26.4)\n",
      "Requirement already satisfied: python-dateutil>=2.8.2 in c:\\users\\bhuva\\anaconda3\\lib\\site-packages (from pandas) (2.9.0.post0)\n",
      "Requirement already satisfied: pytz>=2020.1 in c:\\users\\bhuva\\anaconda3\\lib\\site-packages (from pandas) (2024.1)\n",
      "Requirement already satisfied: tzdata>=2022.7 in c:\\users\\bhuva\\anaconda3\\lib\\site-packages (from pandas) (2023.3)\n",
      "Requirement already satisfied: six>=1.5 in c:\\users\\bhuva\\anaconda3\\lib\\site-packages (from python-dateutil>=2.8.2->pandas) (1.16.0)\n",
      "Note: you may need to restart the kernel to use updated packages.\n"
     ]
    }
   ],
   "source": [
    "pip install mysql-connector-python pandas"
   ]
  },
  {
   "cell_type": "code",
   "execution_count": 1,
   "metadata": {},
   "outputs": [
    {
     "name": "stdout",
     "output_type": "stream",
     "text": [
      "CSV Data Imported Successfully!\n"
     ]
    }
   ],
   "source": [
    "import pandas as pd\n",
    "import mysql.connector\n",
    "\n",
    "# MySQL Connection\n",
    "conn = mysql.connector.connect(\n",
    "    host=\"localhost\",\n",
    "    user=\"root\",\n",
    "    password=\"root\",\n",
    "    database=\"movies_db\"\n",
    ")\n",
    "cursor = conn.cursor()\n",
    "\n",
    "# Read CSV\n",
    "csv_file = \"final_megred_movies.csv\"\n",
    "df = pd.read_csv(csv_file)\n",
    "\n",
    "# Replace NaN values\n",
    "df.fillna({\n",
    "    \"Title\": \"Unknown\",        # Replace missing titles with \"Unknown\"\n",
    "    \"Rating\": 0.0,             # Replace missing ratings with 0.0\n",
    "    \"Votes\": 0,                # Replace missing votes with 0\n",
    "    \"Duration\": 0,             # Replace missing duration with 0\n",
    "    \"Genre\": \"Unknown\"         # Replace missing genre with \"Unknown\"\n",
    "}, inplace=True)\n",
    "\n",
    "# Create Table (if not exists)\n",
    "cursor.execute(\"\"\"\n",
    "    CREATE TABLE IF NOT EXISTS movies (\n",
    "        title VARCHAR(255),\n",
    "        rating FLOAT,\n",
    "        votes INT,\n",
    "        duration INT,\n",
    "        genre VARCHAR(100)\n",
    "    )\n",
    "\"\"\")\n",
    "\n",
    "# Insert Data\n",
    "for _, row in df.iterrows():\n",
    "    cursor.execute(\"\"\"\n",
    "        INSERT INTO movies (title, rating, votes, duration, genre)\n",
    "        VALUES (%s, %s, %s, %s, %s)\n",
    "    \"\"\", (row[\"Title\"], row[\"Rating\"], row[\"Votes\"], row[\"Duration\"], row[\"Genre\"]))\n",
    "\n",
    "# Commit and Close\n",
    "conn.commit()\n",
    "cursor.close()\n",
    "conn.close()\n",
    "\n",
    "print(\"CSV Data Imported Successfully!\")\n"
   ]
  }
 ],
 "metadata": {
  "kernelspec": {
   "display_name": "base",
   "language": "python",
   "name": "python3"
  },
  "language_info": {
   "codemirror_mode": {
    "name": "ipython",
    "version": 3
   },
   "file_extension": ".py",
   "mimetype": "text/x-python",
   "name": "python",
   "nbconvert_exporter": "python",
   "pygments_lexer": "ipython3",
   "version": "3.12.7"
  }
 },
 "nbformat": 4,
 "nbformat_minor": 2
}
