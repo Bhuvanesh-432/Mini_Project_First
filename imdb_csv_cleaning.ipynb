{
 "cells": [
  {
   "cell_type": "code",
   "execution_count": 2,
   "metadata": {},
   "outputs": [
    {
     "name": "stdout",
     "output_type": "stream",
     "text": [
      "                      Title  Rating    Votes Duration   Genre\n",
      "0          1. Solo Leveling     8.5    (60K)    TV-MA  action\n",
      "1      2. Kraven the Hunter     5.4    (47K)    2h 7m  action\n",
      "2  3. The Day of the Jackal     8.2    (88K)    TV-MA  action\n",
      "3               4. Twisters     6.5   (161K)    2h 2m  action\n",
      "4           5. Gladiator II     6.5   (219K)   2h 28m  action\n"
     ]
    }
   ],
   "source": [
    "import pandas as pd\n",
    "import os\n",
    "\n",
    "# List of all the CSV filenames (adjust these file names as needed)\n",
    "csv_files = [\n",
    "    'action_movies.csv',\n",
    "    'comedy_movies.csv',\n",
    "    'drama_movies.csv',\n",
    "    'adventure_movies.csv',\n",
    "    'thriller_movies.csv'\n",
    "]\n",
    "\n",
    "# Initialize an empty list to hold DataFrames\n",
    "dfs = []\n",
    "\n",
    "# Read each CSV file and append it to the list\n",
    "for file in csv_files:\n",
    "    df = pd.read_csv(file)\n",
    "    df['Genre'] = file.split('_')[0]  # Adding a 'Genre' column based on file name\n",
    "    dfs.append(df)\n",
    "\n",
    "# Concatenate all DataFrames into a single DataFrame\n",
    "combined_df = pd.concat(dfs, ignore_index=True)\n",
    "\n",
    "# Optionally, save the combined DataFrame to a CSV file\n",
    "combined_df.to_csv('megred_movies.csv', index=False)\n",
    "\n",
    "# Show the first few rows of the combined DataFrame\n",
    "print(combined_df.head())"
   ]
  },
  {
   "cell_type": "code",
   "execution_count": null,
   "metadata": {},
   "outputs": [],
   "source": [
    "import pandas as pd\n",
    "import numpy as np\n",
    "import re  # Regular expressions for cleaning text\n",
    "\n",
    "# Load the CSV file\n",
    "file_path = \"cleaned_megred_movies.csv\"  # Update path\n",
    "df = pd.read_csv(file_path)\n",
    "\n",
    "# Fix 'Votes' column: Convert values like '60K' to 60000\n",
    "def clean_votes(value):\n",
    "    try:\n",
    "        if isinstance(value, str):  \n",
    "            value = re.sub(r\"[^\\dK.]\", \"\", value)  # Remove non-numeric chars except 'K' and '.'\n",
    "            \n",
    "            if \"K\" in value:  # Convert '60K' → 60000\n",
    "                return int(float(value.replace(\"K\", \"\")) * 1000)\n",
    "            \n",
    "            return int(float(value))  # Convert numeric strings to int\n",
    "        \n",
    "        elif pd.isna(value) or value == \"\":  # Handle missing values\n",
    "            return np.nan\n",
    "        \n",
    "        return int(value)  # Convert valid numbers to int\n",
    "    \n",
    "    except Exception as e:\n",
    "        print(f\"⚠️ Error converting Votes: {value} - {e}\")\n",
    "        return np.nan  # Handle conversion errors safely\n",
    "\n",
    "# Apply the cleaning function\n",
    "df[\"Votes\"] = df[\"Votes\"].astype(str).apply(clean_votes)\n",
    "\n",
    "# Fill NaN values with median (if valid data exists)\n",
    "if df[\"Votes\"].notna().sum() > 0:\n",
    "    median_votes = int(df[\"Votes\"].dropna().median())  \n",
    "    df[\"Votes\"] = df[\"Votes\"].fillna(median_votes)\n",
    "else:\n",
    "    df[\"Votes\"] = df[\"Votes\"].fillna(0)  # Default to 0 if all are NaN\n",
    "\n",
    "# Convert column to int64\n",
    "df[\"Votes\"] = df[\"Votes\"].astype(\"int64\")\n",
    "\n",
    "# Save cleaned file\n",
    "cleaned_file_path = \"final_megred_movies.csv\"\n",
    "df.to_csv(cleaned_file_path, index=False)\n",
    "\n",
    "print(f\"✅ Data cleaned successfully! File saved as: {cleaned_file_path}\")"
   ]
  },
  {
   "cell_type": "code",
   "execution_count": 5,
   "metadata": {},
   "outputs": [
    {
     "name": "stdout",
     "output_type": "stream",
     "text": [
      "✅ Data cleaned successfully! File saved as: cleaned_megred_movies.csv\n"
     ]
    }
   ],
   "source": [
    "import pandas as pd\n",
    "import numpy as np\n",
    "import re\n",
    "\n",
    "# Load the CSV file (Update the path as per your system)\n",
    "file_path = \"megred_movies.csv\"\n",
    "df = pd.read_csv(file_path)\n",
    "\n",
    "# Fix 'Duration' column: Convert '1h 26m' → 86 minutes\n",
    "def convert_duration(value):\n",
    "    try:\n",
    "        if isinstance(value, str):\n",
    "            hours = re.findall(r'(\\d+)h', value)  # Extract hours\n",
    "            minutes = re.findall(r'(\\d+)m', value)  # Extract minutes\n",
    "            total_minutes = int(hours[0]) * 60 if hours else 0\n",
    "            total_minutes += int(minutes[0]) if minutes else 0\n",
    "            return total_minutes\n",
    "        elif pd.isna(value):  \n",
    "            return np.nan  # Keep NaN\n",
    "        return int(value)  # Already in minutes\n",
    "    except ValueError:\n",
    "        return np.nan  # Handle errors\n",
    "\n",
    "df[\"Duration\"] = df[\"Duration\"].apply(convert_duration)\n",
    "df[\"Duration\"] = df[\"Duration\"].fillna(df[\"Duration\"].median()).astype(\"int64\")  # Fill NaN with median\n",
    "\n",
    "# Save cleaned file\n",
    "cleaned_file_path = \"cleaned_megred_movies.csv\"\n",
    "df.to_csv(cleaned_file_path, index=False)\n",
    "\n",
    "print(f\"✅ Data cleaned successfully! File saved as: {cleaned_file_path}\")\n"
   ]
  }
 ],
 "metadata": {
  "kernelspec": {
   "display_name": "base",
   "language": "python",
   "name": "python3"
  },
  "language_info": {
   "codemirror_mode": {
    "name": "ipython",
    "version": 3
   },
   "file_extension": ".py",
   "mimetype": "text/x-python",
   "name": "python",
   "nbconvert_exporter": "python",
   "pygments_lexer": "ipython3",
   "version": "3.12.7"
  }
 },
 "nbformat": 4,
 "nbformat_minor": 2
}
